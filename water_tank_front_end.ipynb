{
  "nbformat": 4,
  "nbformat_minor": 0,
  "metadata": {
    "colab": {
      "provenance": []
    },
    "kernelspec": {
      "name": "python3",
      "display_name": "Python 3"
    },
    "language_info": {
      "name": "python"
    }
  },
  "cells": [
    {
      "cell_type": "code",
      "source": [
        "pip install dash"
      ],
      "metadata": {
        "colab": {
          "base_uri": "https://localhost:8080/"
        },
        "id": "L1MIWiNmI0S-",
        "outputId": "77312e2f-dc57-4589-eeeb-14dd665e1059"
      },
      "execution_count": 1,
      "outputs": [
        {
          "output_type": "stream",
          "name": "stdout",
          "text": [
            "Looking in indexes: https://pypi.org/simple, https://us-python.pkg.dev/colab-wheels/public/simple/\n",
            "Collecting dash\n",
            "  Downloading dash-2.10.2-py3-none-any.whl (10.3 MB)\n",
            "\u001b[2K     \u001b[90m━━━━━━━━━━━━━━━━━━━━━━━━━━━━━━━━━━━━━━━━\u001b[0m \u001b[32m10.3/10.3 MB\u001b[0m \u001b[31m63.1 MB/s\u001b[0m eta \u001b[36m0:00:00\u001b[0m\n",
            "\u001b[?25hRequirement already satisfied: Flask<2.3.0,>=1.0.4 in /usr/local/lib/python3.10/dist-packages (from dash) (2.2.4)\n",
            "Collecting Werkzeug<2.3.0 (from dash)\n",
            "  Downloading Werkzeug-2.2.3-py3-none-any.whl (233 kB)\n",
            "\u001b[2K     \u001b[90m━━━━━━━━━━━━━━━━━━━━━━━━━━━━━━━━━━━━━━\u001b[0m \u001b[32m233.6/233.6 kB\u001b[0m \u001b[31m23.1 MB/s\u001b[0m eta \u001b[36m0:00:00\u001b[0m\n",
            "\u001b[?25hRequirement already satisfied: plotly>=5.0.0 in /usr/local/lib/python3.10/dist-packages (from dash) (5.13.1)\n",
            "Collecting dash-html-components==2.0.0 (from dash)\n",
            "  Downloading dash_html_components-2.0.0-py3-none-any.whl (4.1 kB)\n",
            "Collecting dash-core-components==2.0.0 (from dash)\n",
            "  Downloading dash_core_components-2.0.0-py3-none-any.whl (3.8 kB)\n",
            "Collecting dash-table==5.0.0 (from dash)\n",
            "  Downloading dash_table-5.0.0-py3-none-any.whl (3.9 kB)\n",
            "Requirement already satisfied: Jinja2>=3.0 in /usr/local/lib/python3.10/dist-packages (from Flask<2.3.0,>=1.0.4->dash) (3.1.2)\n",
            "Requirement already satisfied: itsdangerous>=2.0 in /usr/local/lib/python3.10/dist-packages (from Flask<2.3.0,>=1.0.4->dash) (2.1.2)\n",
            "Requirement already satisfied: click>=8.0 in /usr/local/lib/python3.10/dist-packages (from Flask<2.3.0,>=1.0.4->dash) (8.1.3)\n",
            "Requirement already satisfied: tenacity>=6.2.0 in /usr/local/lib/python3.10/dist-packages (from plotly>=5.0.0->dash) (8.2.2)\n",
            "Requirement already satisfied: MarkupSafe>=2.1.1 in /usr/local/lib/python3.10/dist-packages (from Werkzeug<2.3.0->dash) (2.1.2)\n",
            "Installing collected packages: dash-table, dash-html-components, dash-core-components, Werkzeug, dash\n",
            "  Attempting uninstall: Werkzeug\n",
            "    Found existing installation: Werkzeug 2.3.0\n",
            "    Uninstalling Werkzeug-2.3.0:\n",
            "      Successfully uninstalled Werkzeug-2.3.0\n",
            "Successfully installed Werkzeug-2.2.3 dash-2.10.2 dash-core-components-2.0.0 dash-html-components-2.0.0 dash-table-5.0.0\n"
          ]
        }
      ]
    },
    {
      "cell_type": "code",
      "source": [
        "pip install jupyter-dash -q"
      ],
      "metadata": {
        "colab": {
          "base_uri": "https://localhost:8080/"
        },
        "id": "3QjwNMjOI3qm",
        "outputId": "c426ed75-be39-4a86-decc-4e9b6e0e7086"
      },
      "execution_count": 2,
      "outputs": [
        {
          "output_type": "stream",
          "name": "stdout",
          "text": [
            "\u001b[?25l     \u001b[90m━━━━━━━━━━━━━━━━━━━━━━━━━━━━━━━━━━━━━━━━\u001b[0m \u001b[32m0.0/1.6 MB\u001b[0m \u001b[31m?\u001b[0m eta \u001b[36m-:--:--\u001b[0m\r\u001b[2K     \u001b[91m━━━━━━━━━\u001b[0m\u001b[90m╺\u001b[0m\u001b[90m━━━━━━━━━━━━━━━━━━━━━━━━━━━━━━\u001b[0m \u001b[32m0.4/1.6 MB\u001b[0m \u001b[31m11.1 MB/s\u001b[0m eta \u001b[36m0:00:01\u001b[0m\r\u001b[2K     \u001b[91m━━━━━━━━━━━━━━━━━━━━━━━━━━━━━━━━━━━━━━━\u001b[0m\u001b[91m╸\u001b[0m \u001b[32m1.6/1.6 MB\u001b[0m \u001b[31m26.5 MB/s\u001b[0m eta \u001b[36m0:00:01\u001b[0m\r\u001b[2K     \u001b[90m━━━━━━━━━━━━━━━━━━━━━━━━━━━━━━━━━━━━━━━━\u001b[0m \u001b[32m1.6/1.6 MB\u001b[0m \u001b[31m20.9 MB/s\u001b[0m eta \u001b[36m0:00:00\u001b[0m\n",
            "\u001b[?25h"
          ]
        }
      ]
    },
    {
      "cell_type": "code",
      "execution_count": 3,
      "metadata": {
        "colab": {
          "base_uri": "https://localhost:8080/",
          "height": 121
        },
        "id": "yQkUF_P5AlLb",
        "outputId": "7c3c9d15-0d48-4eea-dc62-8c5d48c7623a"
      },
      "outputs": [
        {
          "output_type": "stream",
          "name": "stdout",
          "text": [
            "Dash is running on http://127.0.0.1:8030/\n",
            "\n"
          ]
        },
        {
          "output_type": "stream",
          "name": "stderr",
          "text": [
            "INFO:dash.dash:Dash is running on http://127.0.0.1:8030/\n",
            "\n"
          ]
        },
        {
          "output_type": "stream",
          "name": "stdout",
          "text": [
            "Dash app running on:\n"
          ]
        },
        {
          "output_type": "display_data",
          "data": {
            "text/plain": [
              "<IPython.core.display.Javascript object>"
            ],
            "application/javascript": [
              "(async (port, path, text, element) => {\n",
              "    if (!google.colab.kernel.accessAllowed) {\n",
              "      return;\n",
              "    }\n",
              "    element.appendChild(document.createTextNode(''));\n",
              "    const url = await google.colab.kernel.proxyPort(port);\n",
              "    const anchor = document.createElement('a');\n",
              "    anchor.href = new URL(path, url).toString();\n",
              "    anchor.target = '_blank';\n",
              "    anchor.setAttribute('data-href', url + path);\n",
              "    anchor.textContent = text;\n",
              "    element.appendChild(anchor);\n",
              "  })(8030, \"/\", \"http://127.0.0.1:8030/\", window.element)"
            ]
          },
          "metadata": {}
        }
      ],
      "source": [
        "import Tank\n",
        "from Tank import *\n",
        "from dash import Dash, dash_table, dcc, html, Input, Output, callback, State\n",
        "from jupyter_dash import JupyterDash\n",
        "\n",
        "app = JupyterDash(__name__)\n",
        "\n",
        "# Define the layout\n",
        "app.layout = html.Div([\n",
        "    html.H1(\"Water Table\"),\n",
        "    dcc.Input(id='input-values', type='text', placeholder='Enter values separated by commas'),\n",
        "    html.Button('Create Table', id='button-create', n_clicks=0),\n",
        "    html.Div(id='table-container')\n",
        "])\n",
        "\n",
        "# Define the callback to create the table\n",
        "@app.callback(\n",
        "    Output('table-container', 'children'),\n",
        "    Input('button-create', 'n_clicks'),\n",
        "    State('input-values', 'value')\n",
        ")\n",
        "\n",
        "\n",
        "def generate_tables(n_clicks, input_values):\n",
        "    global t\n",
        "    t = Tank()\n",
        "    if n_clicks and input_values:\n",
        "        values = input_values.split(',')\n",
        "        a = []\n",
        "        for i in range(len(values)):\n",
        "          a.append(int(values[i]))\n",
        "        df = create_table(a)\n",
        "        table_1 = create_table1(df, 'Table 1')\n",
        "        table_2 = create_table2(df, 'Table 2')\n",
        "        total_water = volume(df)\n",
        "        title = html.H2('Total Water Units : ' + total_water)\n",
        "        return [table_1, title, table_2]\n",
        "    else:\n",
        "        return \"\"\n",
        "\n",
        "def create_table(a):\n",
        "  r = list(t.tank_index(a))\n",
        "  tank = dict(zip(r[0], r[1]))\n",
        "  water = t.water_index(r[0], r[1], r[2])\n",
        "  df = t.table(a, tank, water)\n",
        "  return df\n",
        "\n",
        "def volume(df):\n",
        "  return str((df == 'W').sum().sum())\n",
        "\n",
        "def create_table1(df, table_name):\n",
        "  columns = [{'id': str(c), 'name': str(c)} for c in df.columns]\n",
        "  table_1 = dash_table.DataTable(id={'type': 'dynamic-table', 'index': table_name},\n",
        "                                 data=df.to_dict('records'), columns = columns,\n",
        "                                   style_header={'color': 'white'},\n",
        "                                   style_data_conditional = [{\n",
        "                                      'if': {'filter_query': f'{{{column[\"id\"]}}} = \"T\"', 'column_id': column['id']},\n",
        "                                      'backgroundColor': 'yellow', 'color': 'yellow'}for column in columns] +\n",
        "                                       [{\n",
        "                                          'if': {'filter_query': f'{{{column[\"id\"]}}} = \"W\"', 'column_id': column['id']},\n",
        "                                          'backgroundColor': 'lightblue', 'color': 'lightblue'}for column in columns] +\n",
        "                                           [{\n",
        "                                              'if': {'filter_query': f'{{{column[\"id\"]}}} = \"E\"', 'column_id': column['id']},\n",
        "                                              'backgroundColor': 'white', 'color': 'white'}for column in columns\n",
        "                                            ]\n",
        "                                 )\n",
        "  return table_1\n",
        "\n",
        "def create_table2(df, table_name):\n",
        "  columns = [{'id': str(c), 'name': str(c)} for c in df.columns]\n",
        "  table_2 = dash_table.DataTable(data = df.to_dict('records'), columns = columns,\n",
        "                                 style_header={'color': 'white'},\n",
        "                                 style_data_conditional = [{\n",
        "                                    'if': {'filter_query': f'{{{column[\"id\"]}}} = \"T\"', 'column_id': column['id']},\n",
        "                                    'backgroundColor': 'white', 'color': 'white'}for column in columns] +\n",
        "                                     [{\n",
        "                                        'if': {'filter_query': f'{{{column[\"id\"]}}} = \"W\"', 'column_id': column['id']},\n",
        "                                        'backgroundColor': 'lightblue', 'color': 'lightblue'}for column in columns] +\n",
        "                                         [{\n",
        "                                            'if': {'filter_query': f'{{{column[\"id\"]}}} = \"E\"', 'column_id': column['id']},\n",
        "                                            'backgroundColor': 'white', 'color': 'white'}for column in columns\n",
        "                                          ])\n",
        "  return table_2\n",
        "\n",
        "if __name__ == '__main__':\n",
        "    app.run_server(debug = True, port =  8030, host='127.0.0.1')"
      ]
    }
  ]
}